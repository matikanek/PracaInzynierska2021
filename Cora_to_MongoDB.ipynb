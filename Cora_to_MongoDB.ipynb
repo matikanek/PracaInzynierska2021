{
 "cells": [
  {
   "cell_type": "markdown",
   "metadata": {},
   "source": [
    "## Tablica_ID - Cora-Paper"
   ]
  },
  {
   "cell_type": "code",
   "execution_count": 1,
   "metadata": {},
   "outputs": [
    {
     "name": "stdout",
     "output_type": "stream",
     "text": [
      "2708\n"
     ]
    }
   ],
   "source": [
    "tablica_ID = []\n",
    "with open('cora-paper.txt', 'r', encoding='utf-8') as f:\n",
    "    for linia in f:\n",
    "        tablica_ID.append(linia.split()[0].strip('\"'))\n",
    "\n",
    "tablica_ID[0] = tablica_ID[0].split('\"')[1]\n",
    "tablica_ID = list(map(int, tablica_ID))\n",
    "\n",
    "print(len(tablica_ID))"
   ]
  },
  {
   "cell_type": "markdown",
   "metadata": {},
   "source": [
    "## CitedBy - Cora-Cites"
   ]
  },
  {
   "cell_type": "code",
   "execution_count": 2,
   "metadata": {},
   "outputs": [
    {
     "name": "stdout",
     "output_type": "stream",
     "text": [
      "1565\n"
     ]
    }
   ],
   "source": [
    "citedBy = []                   # lista obiektow typu rekord\n",
    "rekord = []                    # [id, [id_cytujacy, id_cytujacy, ...]]\n",
    "aktualnyCytowany = 0           # indexy po lewej\n",
    "aktualnaListaCytowan = []      # indexy po prawej dla indexu po lewej\n",
    "i = 0\n",
    "with open('cora-cites.txt', 'r', encoding='utf-8') as f:\n",
    "    for linia in f:\n",
    "        linia = linia.split()\n",
    "        if(aktualnyCytowany != linia[0]):  # przy pierwszym obiegu petli dodany zostanie obiekt typu [0, []]\n",
    "            rekord.append(int(aktualnyCytowany))\n",
    "            aktualnaListaCytowan = list(map(int, aktualnaListaCytowan))\n",
    "            rekord.append(aktualnaListaCytowan)\n",
    "            citedBy.append(rekord)\n",
    "            aktualnaListaCytowan = []\n",
    "            rekord = []\n",
    "            aktualnyCytowany = linia[0]\n",
    "        aktualnaListaCytowan.append(linia[1])\n",
    "rekord.append(aktualnyCytowany)       # zapisanie ostatniego potrzebnego rekordu\n",
    "aktualnaListaCytowan = list(map(int, aktualnaListaCytowan))\n",
    "rekord.append(aktualnaListaCytowan)\n",
    "citedBy.append(rekord)\n",
    "citedBy.pop(0) # usuwam obiekt typu [0, []]\n",
    "\n",
    "print(len(citedBy))"
   ]
  },
  {
   "cell_type": "markdown",
   "metadata": {},
   "source": [
    "## Citing - Cora-Cites"
   ]
  },
  {
   "cell_type": "code",
   "execution_count": 3,
   "metadata": {},
   "outputs": [
    {
     "name": "stdout",
     "output_type": "stream",
     "text": [
      "2708\n"
     ]
    }
   ],
   "source": [
    "var_cited = []\n",
    "var_citing = []\n",
    "tmp_citing = []\n",
    "record = []\n",
    "citing = []\n",
    "with open('cora-cites.txt', 'r', encoding='utf-8') as f:\n",
    "    for linia in f:\n",
    "        linia = list(map(int, linia.split()))\n",
    "        var_cited.append(linia[0])\n",
    "        var_citing.append(linia[1])\n",
    "        \n",
    "i = 0\n",
    "for idd in tablica_ID:\n",
    "    record.append(idd)\n",
    "    if idd in var_citing:\n",
    "        for cit in var_citing:\n",
    "            if cit == idd:\n",
    "                tmp_citing.append(var_cited[i])\n",
    "            else:\n",
    "                pass\n",
    "            i = i + 1\n",
    "        record.append(tmp_citing)\n",
    "        citing.append(record)\n",
    "        i = 0\n",
    "        tmp_citing = []\n",
    "    else:\n",
    "        empty_list = []\n",
    "        record.append(empty_list)\n",
    "        citing.append(record)\n",
    "    record = []\n",
    "\n",
    "print(len(citing))"
   ]
  },
  {
   "cell_type": "markdown",
   "metadata": {},
   "source": [
    "## Title, Year, Authors - papers "
   ]
  },
  {
   "cell_type": "code",
   "execution_count": 4,
   "metadata": {},
   "outputs": [
    {
     "name": "stdout",
     "output_type": "stream",
     "text": [
      "2708\n"
     ]
    }
   ],
   "source": [
    "import re\n",
    "tmp = 0\n",
    "sub_data = []\n",
    "end_array = []\n",
    "with open('papers', 'r', encoding='utf-8') as f:\n",
    "    for linia in f:\n",
    "        if int(linia.split()[0]) in tablica_ID:\n",
    "            if tmp != int(linia.split()[0]):\n",
    "                sub_data.append(linia)\n",
    "            tmp = int(linia.split()[0])\n",
    "        else:\n",
    "            pass\n",
    "\n",
    "for record in sub_data:\n",
    "    tya_array = []\n",
    "    x = \"\"\n",
    "    if \"<title>\" in record:\n",
    "        x = (re.split('<title>|</title>', record))[1].strip(' :\".,`\\'\\\\')\n",
    "    else:\n",
    "        x = \"\"\n",
    "    tya_array.append(x)\n",
    "    \n",
    "    y = \"\"\n",
    "    if \"<year>\" in record:\n",
    "        y = (re.split('<year>|</year>', record))[1].strip(' .,)(')\n",
    "        y = ''.join(filter(lambda i: i.isdigit(), y))\n",
    "        if len(y) > 4:\n",
    "            y = y[:4]\n",
    "    else:\n",
    "        y = \"\"\n",
    "    tya_array.append(y)\n",
    "    \n",
    "    z = \"\"\n",
    "    if \"<author>\" in record:\n",
    "        z = (re.split('<author>|</author>', record))[1]\n",
    "        z = ''.join([j for j in z if not j.isdigit()]).strip(' :,')\n",
    "    else:\n",
    "        z = \"\"\n",
    "    tya_array.append(z)\n",
    "    \n",
    "    tmp_array = []\n",
    "    tmp_array.append(int(record.split()[0]))\n",
    "    tmp_array.append(tya_array)\n",
    "    end_array.append(tmp_array)\n",
    "    \n",
    "print(len(end_array))"
   ]
  },
  {
   "cell_type": "markdown",
   "metadata": {},
   "source": [
    "## Class - paper"
   ]
  },
  {
   "cell_type": "code",
   "execution_count": 5,
   "metadata": {},
   "outputs": [
    {
     "name": "stdout",
     "output_type": "stream",
     "text": [
      "2708\n"
     ]
    }
   ],
   "source": [
    "klasa = []\n",
    "tmp_a = []\n",
    "tmp_b = []\n",
    "clas = []\n",
    "with open('cora-paper.txt', 'r', encoding='utf-8') as f:\n",
    "    for linia in f:\n",
    "        klasa.append(linia)\n",
    "\n",
    "for i in klasa:\n",
    "    a = i.split()[0].strip('\\\"')\n",
    "    b = i.split()[1].strip('\\\"')\n",
    "    tmp_a.append(a)\n",
    "    tmp_b.append(b)\n",
    "        \n",
    "tmp_a[0] = tmp_a[0][2:].split('\"')[1]\n",
    "r = 0\n",
    "for k in tmp_a:\n",
    "    tmp = []\n",
    "    tmp.append(k)\n",
    "    tmp.append(tmp_b[r])\n",
    "    clas.append(tmp)\n",
    "    r = r + 1\n",
    "\n",
    "print(len(clas))"
   ]
  },
  {
   "cell_type": "markdown",
   "metadata": {},
   "source": [
    "## Content - Cora-Content"
   ]
  },
  {
   "cell_type": "code",
   "execution_count": 6,
   "metadata": {},
   "outputs": [
    {
     "name": "stdout",
     "output_type": "stream",
     "text": [
      "2708\n"
     ]
    }
   ],
   "source": [
    "tmp_index = 0\n",
    "tmp_keyWords = []\n",
    "record = []\n",
    "content = []\n",
    "data = []\n",
    "with open('cora-content.txt', 'r', encoding='utf-8') as f:\n",
    "    for linia in f:\n",
    "        a = linia.split()[0].strip('\\\"')\n",
    "        b = linia.split()[1].strip('\\\"')\n",
    "        tmp = []\n",
    "        tmp.append(a)\n",
    "        tmp.append(b)\n",
    "        data.append(tmp)\n",
    "\n",
    "\n",
    "i = 0\n",
    "data[0][0] = data[0][0][2:]\n",
    "for line in data:\n",
    "    a = line[0]\n",
    "    b = line[1].replace('word', '')\n",
    "    if tmp_index != a:\n",
    "        record.append(tmp_index)\n",
    "        record.append(tmp_keyWords)\n",
    "        content.append(record)\n",
    "        record = []\n",
    "        tmp_keyWords = []\n",
    "        tmp_index = a\n",
    "    tmp_keyWords.append(b)\n",
    "\n",
    "content.pop(0)\n",
    "record.append(tmp_index)\n",
    "record.append(tmp_keyWords)\n",
    "content.append(record)\n",
    "\n",
    "print(len(content))"
   ]
  },
  {
   "cell_type": "markdown",
   "metadata": {},
   "source": [
    "## ZBIERANIE DANYCH DO JSON-a"
   ]
  },
  {
   "cell_type": "code",
   "execution_count": 8,
   "metadata": {},
   "outputs": [
    {
     "name": "stdout",
     "output_type": "stream",
     "text": [
      "done\n"
     ]
    }
   ],
   "source": [
    "json_records = []\n",
    "CoraId = 0\n",
    "Title = \"\"\n",
    "Year = \"\"\n",
    "Authors = \"\"\n",
    "Class = \"\"\n",
    "CitedBy = \"\"\n",
    "Citing = \"\"\n",
    "KeyWords = \"\"\n",
    "\n",
    "for indeks in range(0, 2708):\n",
    "    CoraId = tablica_ID[indeks]\n",
    "\n",
    "    ind = 0\n",
    "    for rec in end_array:\n",
    "        if int(rec[0]) == CoraId:\n",
    "            break\n",
    "        ind = ind + 1\n",
    "    if ind == len(end_array):\n",
    "        Title = \"\"\n",
    "        Year = \"\"\n",
    "        Authors = \"\"\n",
    "    else:\n",
    "        Title = end_array[ind][1][0]\n",
    "        Year = end_array[ind][1][1]\n",
    "        Authors = end_array[ind][1][2]\n",
    "\n",
    "    ind = 0\n",
    "    for rec in clas:\n",
    "        if int(rec[0]) == CoraId:\n",
    "            break\n",
    "        ind = ind + 1\n",
    "    if ind == len(clas):\n",
    "        Class = \"\"\n",
    "    else:\n",
    "        Class = clas[ind][1]\n",
    "\n",
    "    ind = 0\n",
    "    for rec in citedBy:\n",
    "        if int(rec[0]) == CoraId:\n",
    "            break\n",
    "        ind = ind + 1\n",
    "    if ind == len(citedBy):\n",
    "        CitedBy = \"\"\n",
    "    else:\n",
    "        CitedBy = citedBy[ind][1]\n",
    "\n",
    "    ind = 0\n",
    "    for rec in citing:\n",
    "        if int(rec[0]) == CoraId:\n",
    "            break\n",
    "        ind = ind + 1\n",
    "    if ind == len(citing):\n",
    "        Citing = \"\"\n",
    "    else:\n",
    "        Citing = citing[ind][1]\n",
    "\n",
    "    ind = 0\n",
    "    for rec in content:\n",
    "        if int(rec[0]) == CoraId:\n",
    "            break\n",
    "        ind = ind + 1\n",
    "    if ind == len(content):\n",
    "        KeyWords = \"\"\n",
    "    else:\n",
    "        KeyWords = content[ind][1]\n",
    "\n",
    "    tmp_json = []\n",
    "    tmp_json.append(CoraId)\n",
    "    tmp_json.append(Title)\n",
    "    tmp_json.append(Year)\n",
    "    tmp_json.append(Authors)\n",
    "    tmp_json.append(Class)\n",
    "    tmp_json.append(CitedBy)\n",
    "    tmp_json.append(Citing)\n",
    "    tmp_json.append(KeyWords)\n",
    "    json_records.append(tmp_json)\n",
    "    \n",
    "print('done')"
   ]
  },
  {
   "cell_type": "markdown",
   "metadata": {},
   "source": [
    "## JSON parser"
   ]
  },
  {
   "cell_type": "code",
   "execution_count": 49,
   "metadata": {},
   "outputs": [
    {
     "name": "stdout",
     "output_type": "stream",
     "text": [
      "done\n"
     ]
    }
   ],
   "source": [
    "CORA_ID = \"CORA_ID\"\n",
    "TITLE = \"TITLE\"\n",
    "YEAR = \"YEAR\"\n",
    "AUTHORS = \"AUTHORS\"\n",
    "CLASS = \"CLASS\"\n",
    "CITED_BY = \"CITED_BY\"\n",
    "CITING = \"CITING\"\n",
    "KEYWOARDS = \"KEYWORDS\"\n",
    "\n",
    "JSON = \"\"\n",
    "f = open(\"data.json\", \"a\")\n",
    "\n",
    "for i in range(0, len(json_records)):\n",
    "    JSON = \"\"\n",
    "    JSON = JSON+\"{\\\"\"+CORA_ID+\"\\\":\"+str(json_records[i][0])+\",\"\n",
    "    if not json_records[i][1]:\n",
    "        pass\n",
    "    else:\n",
    "        JSON = JSON+\"\\\"\"+TITLE+\"\\\":\\\"\"+str(json_records[i][1]).replace(\"\\\"\", '\\'').replace(\"\\\\\", '')+\"\\\",\"\n",
    "    if not json_records[i][2]:\n",
    "        pass\n",
    "    else:\n",
    "        JSON = JSON+\"\\\"\"+YEAR+\"\\\":\"+str(json_records[i][2])+\",\"\n",
    "    if not json_records[i][3]:\n",
    "        pass\n",
    "    else:\n",
    "        JSON = JSON+\"\\\"\"+AUTHORS+\"\\\":\\\"\"+str(json_records[i][3]).replace(\"\\\\\", '')+\"\\\",\"\n",
    "    JSON = JSON+\"\\\"\"+CLASS+\"\\\":\\\"\"+str(json_records[i][4])+\"\\\",\"\n",
    "    if not json_records[i][5]:\n",
    "        pass\n",
    "    else:\n",
    "        JSON = JSON+\"\\\"\"+CITED_BY+\"\\\":[\"\n",
    "        if isinstance(json_records[i][5], list):\n",
    "            for j in range(0, len(json_records[i][5])):\n",
    "                JSON = JSON+str(json_records[i][5][j])+\",\"\n",
    "            JSON = JSON[:-1]+\"],\"\n",
    "        else:\n",
    "            JSON = JSON+\"],\"\n",
    "    if not json_records[i][6]:\n",
    "        pass\n",
    "    else:\n",
    "        JSON = JSON+\"\\\"\"+CITING+\"\\\":[\"\n",
    "        if isinstance(json_records[i][6], list):\n",
    "            for j in range(0, len(json_records[i][6])):\n",
    "                JSON = JSON+str(json_records[i][6][j])+\",\"\n",
    "            JSON = JSON[:-1]+\"],\"\n",
    "        else:\n",
    "            JSON = JSON+\"],\"\n",
    "    if not json_records[i][7]:\n",
    "        pass\n",
    "    else:\n",
    "        JSON = JSON+\"\\\"\"+KEYWOARDS+\"\\\":[\"\n",
    "        if isinstance(json_records[i][7], list):\n",
    "            for j in range(0, len(json_records[i][7])):\n",
    "                JSON = JSON+str(json_records[i][7][j])+\",\"\n",
    "            JSON = JSON[:-1]+\"]},\"\n",
    "        else:\n",
    "            JSON = JSON+\"]},\"\n",
    "    f.write(JSON)\n",
    "\n",
    "\n",
    "f.close()\n",
    "print(\"done\")\n",
    "#po kompilacji usuń ostatni przecinek i dodaj zamknięcie i otwarcie nawiasu kwadratowego na całym pliku"
   ]
  },
  {
   "cell_type": "code",
   "execution_count": null,
   "metadata": {},
   "outputs": [],
   "source": []
  }
 ],
 "metadata": {
  "kernelspec": {
   "display_name": "Python 3",
   "language": "python",
   "name": "python3"
  },
  "language_info": {
   "codemirror_mode": {
    "name": "ipython",
    "version": 3
   },
   "file_extension": ".py",
   "mimetype": "text/x-python",
   "name": "python",
   "nbconvert_exporter": "python",
   "pygments_lexer": "ipython3",
   "version": "3.8.5"
  }
 },
 "nbformat": 4,
 "nbformat_minor": 4
}
